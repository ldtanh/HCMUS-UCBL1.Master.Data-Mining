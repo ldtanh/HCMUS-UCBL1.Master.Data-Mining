{
 "cells": [
  {
   "cell_type": "code",
   "execution_count": 45,
   "id": "e7f9ca4b-4ab8-4f3c-bfe7-37b618ee6c36",
   "metadata": {},
   "outputs": [],
   "source": [
    "from sklearn.metrics import pairwise_distances\n",
    "from sklearn.metrics import euclidean_distances\n",
    "from math import ceil, log2\n",
    "import numpy as np\n",
    "import time"
   ]
  },
  {
   "cell_type": "code",
   "execution_count": 8,
   "id": "71d6afcd-068e-43a5-9be6-a889c2af674d",
   "metadata": {},
   "outputs": [
    {
     "data": {
      "text/plain": [
       "1.0"
      ]
     },
     "execution_count": 8,
     "metadata": {},
     "output_type": "execute_result"
    }
   ],
   "source": [
    "from scipy import spatial\n",
    "\n",
    "def dist(x, y):\n",
    "    return spatial.distance.jaccard(x, y)\n",
    "\n",
    "x = [0,0,0,0]\n",
    "y = [1,0,1,0]\n",
    "\n",
    "dist(x,y)"
   ]
  },
  {
   "cell_type": "code",
   "execution_count": 11,
   "id": "fcdd0c5f-da85-430a-865e-dc5f34b72a92",
   "metadata": {},
   "outputs": [
    {
     "name": "stdout",
     "output_type": "stream",
     "text": [
      "[1, 0, 0, 0]  -  [0, 0, 0, 0] :  1.0\n",
      "[1, 0, 0, 0]  -  [1, 0, 1, 0] :  0.5\n",
      "--\n",
      "[1, 0, 1, 0]  -  [0, 0, 0, 0] :  1.0\n",
      "[1, 0, 1, 0]  -  [1, 0, 1, 0] :  0.0\n",
      "--\n",
      "[0, 0, 0, 0]  -  [0, 0, 0, 0] :  0\n",
      "[0, 0, 0, 0]  -  [1, 0, 1, 0] :  1.0\n",
      "--\n",
      "[0, 1, 1, 1]  -  [0, 0, 0, 0] :  1.0\n",
      "[0, 1, 1, 1]  -  [1, 0, 1, 0] :  0.75\n",
      "--\n",
      "[0, 1, 0, 1]  -  [0, 0, 0, 0] :  1.0\n",
      "[0, 1, 0, 1]  -  [1, 0, 1, 0] :  1.0\n",
      "--\n"
     ]
    }
   ],
   "source": [
    "data = [\n",
    "    [1,0,0,0],\n",
    "    [1,0,1,0],\n",
    "    \n",
    "    [0,0,0,0],\n",
    "    [0,1,1,1],\n",
    "    \n",
    "    [0,1,0,1],\n",
    "]\n",
    "\n",
    "cs = [\n",
    "    [0,0,0,0],\n",
    "    [1,0,1,0],\n",
    "]\n",
    "\n",
    "for d in data:\n",
    "    for c in cs:\n",
    "        print(d, ' - ', c, ': ', dist(d,c))\n",
    "    print('--')"
   ]
  },
  {
   "cell_type": "code",
   "execution_count": 16,
   "id": "3605f296-d744-4bab-85a5-b4017971d16d",
   "metadata": {},
   "outputs": [
    {
     "name": "stdout",
     "output_type": "stream",
     "text": [
      "0 0 0\n",
      "0 1 1.0\n",
      "1 0 1.0\n",
      "1 1 0.0\n"
     ]
    }
   ],
   "source": [
    "new = [data[2], data[4]]\n",
    "for i in range(2):\n",
    "    for j in range(2):\n",
    "        print(i,j,dist(new[i],new[j]))"
   ]
  },
  {
   "cell_type": "code",
   "execution_count": null,
   "id": "2f9b8838-39f1-4d41-a3e8-614519e1d1c2",
   "metadata": {},
   "outputs": [],
   "source": [
    "https://people.revoledu.com/kardi/tutorial/kMean/Online-K-Means-Clustering.html"
   ]
  },
  {
   "cell_type": "code",
   "execution_count": 51,
   "id": "46736d01-06f5-4b78-a67c-f462ee3d0388",
   "metadata": {},
   "outputs": [],
   "source": [
    "# calculate I\n",
    "def I(a,b):\n",
    "    if (a * b) == 0:\n",
    "        return 0\n",
    "    a = a * 1.0\n",
    "    b = b * 1.0\n",
    "    n = a + b\n",
    "    return -(a * log2(a/n) + b * log2(b/n)) / n\n",
    "\n",
    "# calculate split I\n",
    "def SplitI(arr):\n",
    "    n = sum(arr) \n",
    "    result = 0\n",
    "    for x in arr:\n",
    "        if x == 0:\n",
    "            result += 0\n",
    "        result += x * log2(x/n)\n",
    "    return -result / n"
   ]
  },
  {
   "cell_type": "code",
   "execution_count": 59,
   "id": "3998cf92-11ff-4179-a210-71fe0e196e98",
   "metadata": {},
   "outputs": [
    {
     "data": {
      "text/plain": [
       "0.5"
      ]
     },
     "execution_count": 59,
     "metadata": {},
     "output_type": "execute_result"
    }
   ],
   "source": [
    "(4*I(2,2)+1*I(1,0)+3*I(0,3))/8"
   ]
  },
  {
   "cell_type": "code",
   "execution_count": 53,
   "id": "316da6b8-9b8e-42b1-b29f-04bb17ec7b22",
   "metadata": {},
   "outputs": [
    {
     "data": {
      "text/plain": [
       "1.5219280948873624"
      ]
     },
     "execution_count": 53,
     "metadata": {},
     "output_type": "execute_result"
    }
   ],
   "source": [
    "SplitI([2,1,2])"
   ]
  },
  {
   "cell_type": "code",
   "execution_count": 60,
   "id": "27c94376-53f3-40b2-bdcd-bf7952352fdb",
   "metadata": {},
   "outputs": [],
   "source": [
    "def betacv(data, labels, metric='cosine'):\n",
    "    distances = pairwise_distances(data, metric=metric)\n",
    "    n = labels.shape[0]\n",
    "    A = np.array([intra_cluster_distance(distances[i], labels, i)\n",
    "                  for i in range(n)])\n",
    "    B = np.array([inter_cluster_distance(distances[i], labels, i)\n",
    "                  for i in range(n)])\n",
    "    a = np.sum(A) / 2.0\n",
    "    b = np.sum(B) / 2.0\n",
    "    labels_unq = np.unique(labels)\n",
    "    members = np.array([member_count(labels, i) for i in labels_unq])\n",
    "    N_in = np.array([i*(i-1) for i in members])\n",
    "    n_in = np.sum(N_in) / 2.0\n",
    "    N_out = np.array([i*(n-i) for i in members])\n",
    "    n_out = np.sum(N_out) / 2.0\n",
    "    betacv = (a/n_in)/(b/n_out)\n",
    "    print('-----------')\n",
    "    print('beta:', betacv)\n",
    "    print('intra:', a)\n",
    "    print('inter:', b)\n",
    "    print('n_in :', n_in)\n",
    "    print('n_out:', n_out)\n",
    "    return betacv\n",
    "\n",
    "def intra_cluster_distance(distances_row, labels, i):\n",
    "    mask = labels == labels[i]\n",
    "    mask[i] = False\n",
    "    if not np.any(mask):\n",
    "        return 0\n",
    "    print(f'w_in for [{i+1}]: ', mask)\n",
    "    a = np.sum(distances_row[mask])\n",
    "    print(' => w = ', a)\n",
    "    return a\n",
    "\n",
    "def inter_cluster_distance(distances_row, labels, i):\n",
    "    mask = labels != labels[i]\n",
    "    b = np.sum(distances_row[mask])\n",
    "    print(f'w_out for [{i+1}]: ', mask)\n",
    "    return b\n",
    "\n",
    "def member_count(labels, i):\n",
    "    mask = labels == i\n",
    "    return len(labels[mask])"
   ]
  },
  {
   "cell_type": "code",
   "execution_count": 61,
   "id": "aa91a6a5-2418-49c3-8f3d-046c6f909111",
   "metadata": {},
   "outputs": [
    {
     "name": "stdout",
     "output_type": "stream",
     "text": [
      "w_in for [1]:  [False False False False  True False]\n",
      " => w =  0.33333333333333315\n",
      "w_in for [2]:  [False False  True  True False  True]\n",
      " => w =  1.1835034190722742\n",
      "w_in for [3]:  [False  True False  True False  True]\n",
      " => w =  1.5917517095361373\n",
      "w_in for [4]:  [False  True  True False False  True]\n",
      " => w =  0.9587585476806849\n",
      "w_in for [5]:  [ True False False False False False]\n",
      " => w =  0.33333333333333315\n",
      "w_in for [6]:  [False  True  True  True False False]\n",
      " => w =  1.1835034190722742\n",
      "w_out for [1]:  [False  True  True  True False  True]\n",
      "w_out for [2]:  [ True False False False  True False]\n",
      "w_out for [3]:  [ True False False False  True False]\n",
      "w_out for [4]:  [ True False False False  True False]\n",
      "w_out for [5]:  [False  True  True  True False  True]\n",
      "w_out for [6]:  [ True False False False  True False]\n",
      "-----------\n",
      "beta: 0.5597845135096582\n",
      "intra: 2.7920918810140183\n",
      "inter: 5.7003401714778805\n",
      "n_in : 7.0\n",
      "n_out: 8.0\n"
     ]
    },
    {
     "data": {
      "text/plain": [
       "0.5597845135096582"
      ]
     },
     "execution_count": 61,
     "metadata": {},
     "output_type": "execute_result"
    }
   ],
   "source": [
    "betacv(\n",
    "    data=np.array([\n",
    "        [0,0,1,1,1],\n",
    "        [1,1,0,0,0],\n",
    "        [0,1,1,0,0],\n",
    "        [1,1,0,1,0],\n",
    "        [1,0,1,0,1],\n",
    "        [0,1,0,1,0]\n",
    "    ]),\n",
    "    labels=np.array([0,1,1,1,0,1])\n",
    ")"
   ]
  },
  {
   "cell_type": "code",
   "execution_count": 16,
   "id": "cb1c84be-db71-4ea4-84ad-1524a36c9ca4",
   "metadata": {},
   "outputs": [
    {
     "name": "stdout",
     "output_type": "stream",
     "text": [
      "Accepted item:  frozenset({'D'}) 0.6666666666666666\n",
      "Accepted item:  frozenset({'A'}) 0.6666666666666666\n",
      "Accepted item:  frozenset({'W'}) 0.8333333333333334\n",
      "Accepted item:  frozenset({'T'}) 0.6666666666666666\n",
      "Accepted item:  frozenset({'C'}) 1.0\n",
      "Rejected item:  frozenset({'W', 'D'}) 0.5\n",
      "Accepted item:  frozenset({'C', 'A'}) 0.6666666666666666\n",
      "Rejected item:  frozenset({'W', 'T'}) 0.5\n",
      "Accepted item:  frozenset({'W', 'A'}) 0.6666666666666666\n",
      "Accepted item:  frozenset({'C', 'T'}) 0.6666666666666666\n",
      "Rejected item:  frozenset({'T', 'D'}) 0.3333333333333333\n",
      "Accepted item:  frozenset({'C', 'D'}) 0.6666666666666666\n",
      "Rejected item:  frozenset({'T', 'A'}) 0.5\n",
      "Accepted item:  frozenset({'W', 'C'}) 0.8333333333333334\n",
      "Rejected item:  frozenset({'A', 'D'}) 0.3333333333333333\n",
      "Rejected item:  frozenset({'C', 'A', 'D'}) 0.3333333333333333\n",
      "Rejected item:  frozenset({'C', 'T', 'A'}) 0.5\n",
      "Rejected item:  frozenset({'C', 'T', 'D'}) 0.3333333333333333\n",
      "Accepted item:  frozenset({'W', 'C', 'A'}) 0.6666666666666666\n",
      "Rejected item:  frozenset({'C', 'W', 'T'}) 0.5\n",
      "Rejected item:  frozenset({'W', 'C', 'D'}) 0.5\n",
      "Rejected rule:  frozenset({'C'})  ->  frozenset({'A'}) 0.6666666666666666\n",
      "Accepted rule:  frozenset({'A'})  ->  frozenset({'C'}) 1.0\n",
      "Accepted rule:  frozenset({'W'})  ->  frozenset({'A'}) 0.7999999999999999\n",
      "Accepted rule:  frozenset({'A'})  ->  frozenset({'W'}) 1.0\n",
      "Rejected rule:  frozenset({'C'})  ->  frozenset({'T'}) 0.6666666666666666\n",
      "Accepted rule:  frozenset({'T'})  ->  frozenset({'C'}) 1.0\n",
      "Rejected rule:  frozenset({'C'})  ->  frozenset({'D'}) 0.6666666666666666\n",
      "Accepted rule:  frozenset({'D'})  ->  frozenset({'C'}) 1.0\n",
      "Accepted rule:  frozenset({'W'})  ->  frozenset({'C'}) 1.0\n",
      "Accepted rule:  frozenset({'C'})  ->  frozenset({'W'}) 0.8333333333333334\n",
      "Accepted rule:  frozenset({'W'})  ->  frozenset({'C', 'A'}) 0.7999999999999999\n",
      "Rejected rule:  frozenset({'C'})  ->  frozenset({'W', 'A'}) 0.6666666666666666\n",
      "Accepted rule:  frozenset({'A'})  ->  frozenset({'W', 'C'}) 1.0\n",
      "Accepted rule:  frozenset({'W', 'C'})  ->  frozenset({'A'}) 0.7999999999999999\n",
      "Accepted rule:  frozenset({'W', 'A'})  ->  frozenset({'C'}) 1.0\n",
      "Accepted rule:  frozenset({'C', 'A'})  ->  frozenset({'W'}) 1.0\n",
      "item: ('D',) , 4 , 0.667\n",
      "item: ('A',) , 4 , 0.667\n",
      "item: ('T',) , 4 , 0.667\n",
      "item: ('C', 'A') , 4 , 0.667\n",
      "item: ('W', 'A') , 4 , 0.667\n",
      "item: ('C', 'T') , 4 , 0.667\n",
      "item: ('C', 'D') , 4 , 0.667\n",
      "item: ('W', 'C', 'A') , 4 , 0.667\n",
      "item: ('W',) , 5 , 0.833\n",
      "item: ('W', 'C') , 5 , 0.833\n",
      "item: ('C',) , 6 , 1.000\n",
      "\n",
      "------------------------ RULES:\n",
      "Rule: ('W',) ==> ('A',) , 0.800\n",
      "Rule: ('W',) ==> ('C', 'A') , 0.800\n",
      "Rule: ('W', 'C') ==> ('A',) , 0.800\n",
      "Rule: ('C',) ==> ('W',) , 0.833\n",
      "Rule: ('A',) ==> ('C',) , 1.000\n",
      "Rule: ('A',) ==> ('W',) , 1.000\n",
      "Rule: ('T',) ==> ('C',) , 1.000\n",
      "Rule: ('D',) ==> ('C',) , 1.000\n",
      "Rule: ('W',) ==> ('C',) , 1.000\n",
      "Rule: ('A',) ==> ('W', 'C') , 1.000\n",
      "Rule: ('W', 'A') ==> ('C',) , 1.000\n",
      "Rule: ('C', 'A') ==> ('W',) , 1.000\n"
     ]
    }
   ],
   "source": [
    "!python apriori.py -f data.csv -s 0.6 -c 0.8"
   ]
  },
  {
   "cell_type": "code",
   "execution_count": 18,
   "id": "42eee7fa-8155-47a2-9cf1-fba24e5f377f",
   "metadata": {},
   "outputs": [
    {
     "data": {
      "text/html": [
       "<div>\n",
       "<style scoped>\n",
       "    .dataframe tbody tr th:only-of-type {\n",
       "        vertical-align: middle;\n",
       "    }\n",
       "\n",
       "    .dataframe tbody tr th {\n",
       "        vertical-align: top;\n",
       "    }\n",
       "\n",
       "    .dataframe thead th {\n",
       "        text-align: right;\n",
       "    }\n",
       "</style>\n",
       "<table border=\"1\" class=\"dataframe\">\n",
       "  <thead>\n",
       "    <tr style=\"text-align: right;\">\n",
       "      <th></th>\n",
       "      <th>A</th>\n",
       "      <th>C</th>\n",
       "      <th>D</th>\n",
       "      <th>T</th>\n",
       "      <th>W</th>\n",
       "    </tr>\n",
       "  </thead>\n",
       "  <tbody>\n",
       "    <tr>\n",
       "      <th>0</th>\n",
       "      <td>True</td>\n",
       "      <td>True</td>\n",
       "      <td>False</td>\n",
       "      <td>True</td>\n",
       "      <td>True</td>\n",
       "    </tr>\n",
       "    <tr>\n",
       "      <th>1</th>\n",
       "      <td>False</td>\n",
       "      <td>True</td>\n",
       "      <td>True</td>\n",
       "      <td>False</td>\n",
       "      <td>True</td>\n",
       "    </tr>\n",
       "    <tr>\n",
       "      <th>2</th>\n",
       "      <td>False</td>\n",
       "      <td>True</td>\n",
       "      <td>True</td>\n",
       "      <td>True</td>\n",
       "      <td>False</td>\n",
       "    </tr>\n",
       "    <tr>\n",
       "      <th>3</th>\n",
       "      <td>True</td>\n",
       "      <td>True</td>\n",
       "      <td>False</td>\n",
       "      <td>True</td>\n",
       "      <td>True</td>\n",
       "    </tr>\n",
       "    <tr>\n",
       "      <th>4</th>\n",
       "      <td>True</td>\n",
       "      <td>True</td>\n",
       "      <td>True</td>\n",
       "      <td>False</td>\n",
       "      <td>True</td>\n",
       "    </tr>\n",
       "    <tr>\n",
       "      <th>5</th>\n",
       "      <td>True</td>\n",
       "      <td>True</td>\n",
       "      <td>True</td>\n",
       "      <td>True</td>\n",
       "      <td>True</td>\n",
       "    </tr>\n",
       "  </tbody>\n",
       "</table>\n",
       "</div>"
      ],
      "text/plain": [
       "       A     C      D      T      W\n",
       "0   True  True  False   True   True\n",
       "1  False  True   True  False   True\n",
       "2  False  True   True   True  False\n",
       "3   True  True  False   True   True\n",
       "4   True  True   True  False   True\n",
       "5   True  True   True   True   True"
      ]
     },
     "execution_count": 18,
     "metadata": {},
     "output_type": "execute_result"
    }
   ],
   "source": [
    "import pandas as pd\n",
    "from mlxtend.preprocessing import TransactionEncoder\n",
    "\n",
    "dataset = [\n",
    "    ['A', 'C', 'T', 'W'],\n",
    "    ['C', 'D', 'W'],\n",
    "    ['C', 'D', 'T'],\n",
    "    ['A', 'C', 'T', 'W'],\n",
    "    ['A', 'C', 'D', 'W'],\n",
    "    ['A', 'C', 'D', 'T', 'W'],\n",
    "]\n",
    "te = TransactionEncoder()\n",
    "te_ary = te.fit(dataset).transform(dataset)\n",
    "df = pd.DataFrame(te_ary, columns=te.columns_)\n",
    "df"
   ]
  },
  {
   "cell_type": "code",
   "execution_count": 20,
   "id": "51a48718-033c-4408-8d90-6bdfd5b2059e",
   "metadata": {},
   "outputs": [
    {
     "data": {
      "text/html": [
       "<div>\n",
       "<style scoped>\n",
       "    .dataframe tbody tr th:only-of-type {\n",
       "        vertical-align: middle;\n",
       "    }\n",
       "\n",
       "    .dataframe tbody tr th {\n",
       "        vertical-align: top;\n",
       "    }\n",
       "\n",
       "    .dataframe thead th {\n",
       "        text-align: right;\n",
       "    }\n",
       "</style>\n",
       "<table border=\"1\" class=\"dataframe\">\n",
       "  <thead>\n",
       "    <tr style=\"text-align: right;\">\n",
       "      <th></th>\n",
       "      <th>support</th>\n",
       "      <th>itemsets</th>\n",
       "    </tr>\n",
       "  </thead>\n",
       "  <tbody>\n",
       "    <tr>\n",
       "      <th>0</th>\n",
       "      <td>1.000000</td>\n",
       "      <td>(C)</td>\n",
       "    </tr>\n",
       "    <tr>\n",
       "      <th>1</th>\n",
       "      <td>0.833333</td>\n",
       "      <td>(W)</td>\n",
       "    </tr>\n",
       "    <tr>\n",
       "      <th>2</th>\n",
       "      <td>0.666667</td>\n",
       "      <td>(T)</td>\n",
       "    </tr>\n",
       "    <tr>\n",
       "      <th>3</th>\n",
       "      <td>0.666667</td>\n",
       "      <td>(A)</td>\n",
       "    </tr>\n",
       "    <tr>\n",
       "      <th>4</th>\n",
       "      <td>0.666667</td>\n",
       "      <td>(D)</td>\n",
       "    </tr>\n",
       "    <tr>\n",
       "      <th>5</th>\n",
       "      <td>0.833333</td>\n",
       "      <td>(C, W)</td>\n",
       "    </tr>\n",
       "    <tr>\n",
       "      <th>6</th>\n",
       "      <td>0.666667</td>\n",
       "      <td>(C, T)</td>\n",
       "    </tr>\n",
       "    <tr>\n",
       "      <th>7</th>\n",
       "      <td>0.666667</td>\n",
       "      <td>(A, W)</td>\n",
       "    </tr>\n",
       "    <tr>\n",
       "      <th>8</th>\n",
       "      <td>0.666667</td>\n",
       "      <td>(C, A)</td>\n",
       "    </tr>\n",
       "    <tr>\n",
       "      <th>9</th>\n",
       "      <td>0.666667</td>\n",
       "      <td>(C, A, W)</td>\n",
       "    </tr>\n",
       "    <tr>\n",
       "      <th>10</th>\n",
       "      <td>0.666667</td>\n",
       "      <td>(C, D)</td>\n",
       "    </tr>\n",
       "  </tbody>\n",
       "</table>\n",
       "</div>"
      ],
      "text/plain": [
       "     support   itemsets\n",
       "0   1.000000        (C)\n",
       "1   0.833333        (W)\n",
       "2   0.666667        (T)\n",
       "3   0.666667        (A)\n",
       "4   0.666667        (D)\n",
       "5   0.833333     (C, W)\n",
       "6   0.666667     (C, T)\n",
       "7   0.666667     (A, W)\n",
       "8   0.666667     (C, A)\n",
       "9   0.666667  (C, A, W)\n",
       "10  0.666667     (C, D)"
      ]
     },
     "execution_count": 20,
     "metadata": {},
     "output_type": "execute_result"
    }
   ],
   "source": [
    "from mlxtend.frequent_patterns import fpgrowth\n",
    "\n",
    "fpgrowth(df, min_support=0.6, use_colnames=True)"
   ]
  },
  {
   "cell_type": "code",
   "execution_count": 23,
   "id": "fe8ae61b-ef1c-4b24-bb23-babe1dfeebc2",
   "metadata": {},
   "outputs": [
    {
     "data": {
      "text/html": [
       "<div>\n",
       "<style scoped>\n",
       "    .dataframe tbody tr th:only-of-type {\n",
       "        vertical-align: middle;\n",
       "    }\n",
       "\n",
       "    .dataframe tbody tr th {\n",
       "        vertical-align: top;\n",
       "    }\n",
       "\n",
       "    .dataframe thead th {\n",
       "        text-align: right;\n",
       "    }\n",
       "</style>\n",
       "<table border=\"1\" class=\"dataframe\">\n",
       "  <thead>\n",
       "    <tr style=\"text-align: right;\">\n",
       "      <th></th>\n",
       "      <th>support</th>\n",
       "      <th>itemsets</th>\n",
       "    </tr>\n",
       "  </thead>\n",
       "  <tbody>\n",
       "    <tr>\n",
       "      <th>0</th>\n",
       "      <td>0.666667</td>\n",
       "      <td>(A)</td>\n",
       "    </tr>\n",
       "    <tr>\n",
       "      <th>1</th>\n",
       "      <td>1.000000</td>\n",
       "      <td>(C)</td>\n",
       "    </tr>\n",
       "    <tr>\n",
       "      <th>2</th>\n",
       "      <td>0.666667</td>\n",
       "      <td>(D)</td>\n",
       "    </tr>\n",
       "    <tr>\n",
       "      <th>3</th>\n",
       "      <td>0.666667</td>\n",
       "      <td>(T)</td>\n",
       "    </tr>\n",
       "    <tr>\n",
       "      <th>4</th>\n",
       "      <td>0.833333</td>\n",
       "      <td>(W)</td>\n",
       "    </tr>\n",
       "    <tr>\n",
       "      <th>5</th>\n",
       "      <td>0.666667</td>\n",
       "      <td>(C, A)</td>\n",
       "    </tr>\n",
       "    <tr>\n",
       "      <th>6</th>\n",
       "      <td>0.666667</td>\n",
       "      <td>(A, W)</td>\n",
       "    </tr>\n",
       "    <tr>\n",
       "      <th>7</th>\n",
       "      <td>0.666667</td>\n",
       "      <td>(C, D)</td>\n",
       "    </tr>\n",
       "    <tr>\n",
       "      <th>8</th>\n",
       "      <td>0.666667</td>\n",
       "      <td>(C, T)</td>\n",
       "    </tr>\n",
       "    <tr>\n",
       "      <th>9</th>\n",
       "      <td>0.833333</td>\n",
       "      <td>(C, W)</td>\n",
       "    </tr>\n",
       "    <tr>\n",
       "      <th>10</th>\n",
       "      <td>0.666667</td>\n",
       "      <td>(C, A, W)</td>\n",
       "    </tr>\n",
       "  </tbody>\n",
       "</table>\n",
       "</div>"
      ],
      "text/plain": [
       "     support   itemsets\n",
       "0   0.666667        (A)\n",
       "1   1.000000        (C)\n",
       "2   0.666667        (D)\n",
       "3   0.666667        (T)\n",
       "4   0.833333        (W)\n",
       "5   0.666667     (C, A)\n",
       "6   0.666667     (A, W)\n",
       "7   0.666667     (C, D)\n",
       "8   0.666667     (C, T)\n",
       "9   0.833333     (C, W)\n",
       "10  0.666667  (C, A, W)"
      ]
     },
     "execution_count": 23,
     "metadata": {},
     "output_type": "execute_result"
    }
   ],
   "source": [
    "from mlxtend.frequent_patterns import apriori\n",
    "apriori(df, min_support=0.6, use_colnames=True)"
   ]
  },
  {
   "cell_type": "code",
   "execution_count": null,
   "id": "5b5e8c55-1eb1-447f-89a5-6132b0ef34f8",
   "metadata": {},
   "outputs": [],
   "source": []
  }
 ],
 "metadata": {
  "kernelspec": {
   "display_name": "Python 3 (ipykernel)",
   "language": "python",
   "name": "python3"
  },
  "language_info": {
   "codemirror_mode": {
    "name": "ipython",
    "version": 3
   },
   "file_extension": ".py",
   "mimetype": "text/x-python",
   "name": "python",
   "nbconvert_exporter": "python",
   "pygments_lexer": "ipython3",
   "version": "3.7.9"
  }
 },
 "nbformat": 4,
 "nbformat_minor": 5
}
